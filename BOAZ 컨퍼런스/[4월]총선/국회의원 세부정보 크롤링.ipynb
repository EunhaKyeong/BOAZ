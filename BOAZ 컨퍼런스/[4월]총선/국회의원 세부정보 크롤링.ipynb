{
 "cells": [
  {
   "cell_type": "code",
   "execution_count": 2,
   "metadata": {},
   "outputs": [
    {
     "name": "stdout",
     "output_type": "stream",
     "text": [
      "Collecting selenium\n",
      "  Using cached selenium-3.141.0-py2.py3-none-any.whl (904 kB)\n",
      "Requirement already satisfied: urllib3 in c:\\users\\eh063\\anaconda3\\lib\\site-packages (from selenium) (1.25.8)\n",
      "Installing collected packages: selenium\n",
      "Successfully installed selenium-3.141.0\n",
      "Note: you may need to restart the kernel to use updated packages.\n"
     ]
    }
   ],
   "source": [
    "pip install selenium"
   ]
  },
  {
   "cell_type": "code",
   "execution_count": 3,
   "metadata": {},
   "outputs": [],
   "source": [
    "import time\n",
    "from selenium import webdriver"
   ]
  },
  {
   "cell_type": "code",
   "execution_count": 97,
   "metadata": {},
   "outputs": [],
   "source": [
    "driver = webdriver.Chrome(executable_path = r'C:\\Users\\eh063\\Downloads\\chromedriver_win32 (2)\\chromedriver.exe')\n",
    "driver.maximize_window()"
   ]
  },
  {
   "cell_type": "code",
   "execution_count": 98,
   "metadata": {},
   "outputs": [],
   "source": [
    "driver.get('https://www.assembly.go.kr/assm/memact/congressman/memCond/memCond.do')"
   ]
  },
  {
   "cell_type": "code",
   "execution_count": 60,
   "metadata": {},
   "outputs": [
    {
     "ename": "NoSuchElementException",
     "evalue": "Message: no such element: Unable to locate element: {\"method\":\"xpath\",\"selector\":\"//*[@id=\"listArea\"]/div[2]/dl/dd[1]/a\"}\n  (Session info: chrome=81.0.4044.138)\n",
     "output_type": "error",
     "traceback": [
      "\u001b[1;31m---------------------------------------------------------------------------\u001b[0m",
      "\u001b[1;31mNoSuchElementException\u001b[0m                    Traceback (most recent call last)",
      "\u001b[1;32m<ipython-input-60-81b0ff8d6129>\u001b[0m in \u001b[0;36m<module>\u001b[1;34m\u001b[0m\n\u001b[0;32m      2\u001b[0m \u001b[0mdriver\u001b[0m\u001b[1;33m.\u001b[0m\u001b[0mfind_element_by_xpath\u001b[0m\u001b[1;33m(\u001b[0m\u001b[1;34m'//*[@id=\"memCondForm\"]/div/div[1]/fieldset/div/dl[3]/dd/a/img'\u001b[0m\u001b[1;33m)\u001b[0m\u001b[1;33m.\u001b[0m\u001b[0mclick\u001b[0m\u001b[1;33m(\u001b[0m\u001b[1;33m)\u001b[0m\u001b[1;33m\u001b[0m\u001b[1;33m\u001b[0m\u001b[0m\n\u001b[0;32m      3\u001b[0m \u001b[0mtime\u001b[0m\u001b[1;33m.\u001b[0m\u001b[0msleep\u001b[0m\u001b[1;33m(\u001b[0m\u001b[1;36m5\u001b[0m\u001b[1;33m)\u001b[0m\u001b[1;33m\u001b[0m\u001b[1;33m\u001b[0m\u001b[0m\n\u001b[1;32m----> 4\u001b[1;33m \u001b[0mdriver\u001b[0m\u001b[1;33m.\u001b[0m\u001b[0mfind_element_by_xpath\u001b[0m\u001b[1;33m(\u001b[0m\u001b[1;34m'//*[@id=\"listArea\"]/div[2]/dl/dd[1]/a'\u001b[0m\u001b[1;33m)\u001b[0m\u001b[1;33m.\u001b[0m\u001b[0mclick\u001b[0m\u001b[1;33m(\u001b[0m\u001b[1;33m)\u001b[0m\u001b[1;33m\u001b[0m\u001b[1;33m\u001b[0m\u001b[0m\n\u001b[0m",
      "\u001b[1;32m~\\anaconda3\\lib\\site-packages\\selenium\\webdriver\\remote\\webdriver.py\u001b[0m in \u001b[0;36mfind_element_by_xpath\u001b[1;34m(self, xpath)\u001b[0m\n\u001b[0;32m    392\u001b[0m             \u001b[0melement\u001b[0m \u001b[1;33m=\u001b[0m \u001b[0mdriver\u001b[0m\u001b[1;33m.\u001b[0m\u001b[0mfind_element_by_xpath\u001b[0m\u001b[1;33m(\u001b[0m\u001b[1;34m'//div/td[1]'\u001b[0m\u001b[1;33m)\u001b[0m\u001b[1;33m\u001b[0m\u001b[1;33m\u001b[0m\u001b[0m\n\u001b[0;32m    393\u001b[0m         \"\"\"\n\u001b[1;32m--> 394\u001b[1;33m         \u001b[1;32mreturn\u001b[0m \u001b[0mself\u001b[0m\u001b[1;33m.\u001b[0m\u001b[0mfind_element\u001b[0m\u001b[1;33m(\u001b[0m\u001b[0mby\u001b[0m\u001b[1;33m=\u001b[0m\u001b[0mBy\u001b[0m\u001b[1;33m.\u001b[0m\u001b[0mXPATH\u001b[0m\u001b[1;33m,\u001b[0m \u001b[0mvalue\u001b[0m\u001b[1;33m=\u001b[0m\u001b[0mxpath\u001b[0m\u001b[1;33m)\u001b[0m\u001b[1;33m\u001b[0m\u001b[1;33m\u001b[0m\u001b[0m\n\u001b[0m\u001b[0;32m    395\u001b[0m \u001b[1;33m\u001b[0m\u001b[0m\n\u001b[0;32m    396\u001b[0m     \u001b[1;32mdef\u001b[0m \u001b[0mfind_elements_by_xpath\u001b[0m\u001b[1;33m(\u001b[0m\u001b[0mself\u001b[0m\u001b[1;33m,\u001b[0m \u001b[0mxpath\u001b[0m\u001b[1;33m)\u001b[0m\u001b[1;33m:\u001b[0m\u001b[1;33m\u001b[0m\u001b[1;33m\u001b[0m\u001b[0m\n",
      "\u001b[1;32m~\\anaconda3\\lib\\site-packages\\selenium\\webdriver\\remote\\webdriver.py\u001b[0m in \u001b[0;36mfind_element\u001b[1;34m(self, by, value)\u001b[0m\n\u001b[0;32m    976\u001b[0m         return self.execute(Command.FIND_ELEMENT, {\n\u001b[0;32m    977\u001b[0m             \u001b[1;34m'using'\u001b[0m\u001b[1;33m:\u001b[0m \u001b[0mby\u001b[0m\u001b[1;33m,\u001b[0m\u001b[1;33m\u001b[0m\u001b[1;33m\u001b[0m\u001b[0m\n\u001b[1;32m--> 978\u001b[1;33m             'value': value})['value']\n\u001b[0m\u001b[0;32m    979\u001b[0m \u001b[1;33m\u001b[0m\u001b[0m\n\u001b[0;32m    980\u001b[0m     \u001b[1;32mdef\u001b[0m \u001b[0mfind_elements\u001b[0m\u001b[1;33m(\u001b[0m\u001b[0mself\u001b[0m\u001b[1;33m,\u001b[0m \u001b[0mby\u001b[0m\u001b[1;33m=\u001b[0m\u001b[0mBy\u001b[0m\u001b[1;33m.\u001b[0m\u001b[0mID\u001b[0m\u001b[1;33m,\u001b[0m \u001b[0mvalue\u001b[0m\u001b[1;33m=\u001b[0m\u001b[1;32mNone\u001b[0m\u001b[1;33m)\u001b[0m\u001b[1;33m:\u001b[0m\u001b[1;33m\u001b[0m\u001b[1;33m\u001b[0m\u001b[0m\n",
      "\u001b[1;32m~\\anaconda3\\lib\\site-packages\\selenium\\webdriver\\remote\\webdriver.py\u001b[0m in \u001b[0;36mexecute\u001b[1;34m(self, driver_command, params)\u001b[0m\n\u001b[0;32m    319\u001b[0m         \u001b[0mresponse\u001b[0m \u001b[1;33m=\u001b[0m \u001b[0mself\u001b[0m\u001b[1;33m.\u001b[0m\u001b[0mcommand_executor\u001b[0m\u001b[1;33m.\u001b[0m\u001b[0mexecute\u001b[0m\u001b[1;33m(\u001b[0m\u001b[0mdriver_command\u001b[0m\u001b[1;33m,\u001b[0m \u001b[0mparams\u001b[0m\u001b[1;33m)\u001b[0m\u001b[1;33m\u001b[0m\u001b[1;33m\u001b[0m\u001b[0m\n\u001b[0;32m    320\u001b[0m         \u001b[1;32mif\u001b[0m \u001b[0mresponse\u001b[0m\u001b[1;33m:\u001b[0m\u001b[1;33m\u001b[0m\u001b[1;33m\u001b[0m\u001b[0m\n\u001b[1;32m--> 321\u001b[1;33m             \u001b[0mself\u001b[0m\u001b[1;33m.\u001b[0m\u001b[0merror_handler\u001b[0m\u001b[1;33m.\u001b[0m\u001b[0mcheck_response\u001b[0m\u001b[1;33m(\u001b[0m\u001b[0mresponse\u001b[0m\u001b[1;33m)\u001b[0m\u001b[1;33m\u001b[0m\u001b[1;33m\u001b[0m\u001b[0m\n\u001b[0m\u001b[0;32m    322\u001b[0m             response['value'] = self._unwrap_value(\n\u001b[0;32m    323\u001b[0m                 response.get('value', None))\n",
      "\u001b[1;32m~\\anaconda3\\lib\\site-packages\\selenium\\webdriver\\remote\\errorhandler.py\u001b[0m in \u001b[0;36mcheck_response\u001b[1;34m(self, response)\u001b[0m\n\u001b[0;32m    240\u001b[0m                 \u001b[0malert_text\u001b[0m \u001b[1;33m=\u001b[0m \u001b[0mvalue\u001b[0m\u001b[1;33m[\u001b[0m\u001b[1;34m'alert'\u001b[0m\u001b[1;33m]\u001b[0m\u001b[1;33m.\u001b[0m\u001b[0mget\u001b[0m\u001b[1;33m(\u001b[0m\u001b[1;34m'text'\u001b[0m\u001b[1;33m)\u001b[0m\u001b[1;33m\u001b[0m\u001b[1;33m\u001b[0m\u001b[0m\n\u001b[0;32m    241\u001b[0m             \u001b[1;32mraise\u001b[0m \u001b[0mexception_class\u001b[0m\u001b[1;33m(\u001b[0m\u001b[0mmessage\u001b[0m\u001b[1;33m,\u001b[0m \u001b[0mscreen\u001b[0m\u001b[1;33m,\u001b[0m \u001b[0mstacktrace\u001b[0m\u001b[1;33m,\u001b[0m \u001b[0malert_text\u001b[0m\u001b[1;33m)\u001b[0m\u001b[1;33m\u001b[0m\u001b[1;33m\u001b[0m\u001b[0m\n\u001b[1;32m--> 242\u001b[1;33m         \u001b[1;32mraise\u001b[0m \u001b[0mexception_class\u001b[0m\u001b[1;33m(\u001b[0m\u001b[0mmessage\u001b[0m\u001b[1;33m,\u001b[0m \u001b[0mscreen\u001b[0m\u001b[1;33m,\u001b[0m \u001b[0mstacktrace\u001b[0m\u001b[1;33m)\u001b[0m\u001b[1;33m\u001b[0m\u001b[1;33m\u001b[0m\u001b[0m\n\u001b[0m\u001b[0;32m    243\u001b[0m \u001b[1;33m\u001b[0m\u001b[0m\n\u001b[0;32m    244\u001b[0m     \u001b[1;32mdef\u001b[0m \u001b[0m_value_or_default\u001b[0m\u001b[1;33m(\u001b[0m\u001b[0mself\u001b[0m\u001b[1;33m,\u001b[0m \u001b[0mobj\u001b[0m\u001b[1;33m,\u001b[0m \u001b[0mkey\u001b[0m\u001b[1;33m,\u001b[0m \u001b[0mdefault\u001b[0m\u001b[1;33m)\u001b[0m\u001b[1;33m:\u001b[0m\u001b[1;33m\u001b[0m\u001b[1;33m\u001b[0m\u001b[0m\n",
      "\u001b[1;31mNoSuchElementException\u001b[0m: Message: no such element: Unable to locate element: {\"method\":\"xpath\",\"selector\":\"//*[@id=\"listArea\"]/div[2]/dl/dd[1]/a\"}\n  (Session info: chrome=81.0.4044.138)\n"
     ]
    }
   ],
   "source": [
    "driver.find_element_by_xpath('//*[@id=\"s_mem_nm\"]').send_keys('김수민')\n",
    "driver.find_element_by_xpath('//*[@id=\"memCondForm\"]/div/div[1]/fieldset/div/dl[3]/dd/a/img').click()\n",
    "time.sleep(5)\n",
    "driver.find_element_by_xpath('//*[@id=\"listArea\"]/div[2]/dl/dd[1]/a').click()"
   ]
  },
  {
   "cell_type": "code",
   "execution_count": 19,
   "metadata": {},
   "outputs": [],
   "source": [
    "# 최근 열린 탭으로 전환\n",
    "driver.switch_to.window(driver.window_handles[-1])\n",
    "time.sleep(5)"
   ]
  },
  {
   "cell_type": "code",
   "execution_count": 20,
   "metadata": {},
   "outputs": [],
   "source": [
    "이름 = []\n",
    "생년월일 = []\n",
    "정당 = []\n",
    "선거구 = []\n",
    "소속위원회 = []\n",
    "당선횟수 = []\n",
    "약력 = []"
   ]
  },
  {
   "cell_type": "code",
   "execution_count": 13,
   "metadata": {},
   "outputs": [
    {
     "data": {
      "text/plain": [
       "'서청원'"
      ]
     },
     "execution_count": 13,
     "metadata": {},
     "output_type": "execute_result"
    }
   ],
   "source": [
    "name = driver.find_element_by_xpath('//*[@id=\"contentMain\"]/div[2]/div[2]/ul/li[1]/div/h4').text\n",
    "name"
   ]
  },
  {
   "cell_type": "code",
   "execution_count": 22,
   "metadata": {},
   "outputs": [
    {
     "data": {
      "text/plain": [
       "'1943-04-03'"
      ]
     },
     "execution_count": 22,
     "metadata": {},
     "output_type": "execute_result"
    }
   ],
   "source": [
    "birth = driver.find_element_by_xpath('//*[@id=\"contentMain\"]/div[2]/div[2]/ul/li[1]/div/ul/li[4]').text\n",
    "birth"
   ]
  },
  {
   "cell_type": "code",
   "execution_count": 23,
   "metadata": {},
   "outputs": [
    {
     "data": {
      "text/plain": [
       "'우리공화당'"
      ]
     },
     "execution_count": 23,
     "metadata": {},
     "output_type": "execute_result"
    }
   ],
   "source": [
    "party = driver.find_element_by_xpath('//*[@id=\"contentMain\"]/div[2]/div[2]/ul/li[2]/dl/dd[1]').text\n",
    "party"
   ]
  },
  {
   "cell_type": "code",
   "execution_count": 24,
   "metadata": {},
   "outputs": [
    {
     "data": {
      "text/plain": [
       "'우리공화당'"
      ]
     },
     "execution_count": 24,
     "metadata": {},
     "output_type": "execute_result"
    }
   ],
   "source": [
    "ward = driver.find_element_by_xpath('//*[@id=\"contentMain\"]/div[2]/div[2]/ul/li[2]/dl/dd[1]').text\n",
    "ward"
   ]
  },
  {
   "cell_type": "code",
   "execution_count": 26,
   "metadata": {},
   "outputs": [
    {
     "data": {
      "text/plain": [
       "'국방위원회'"
      ]
     },
     "execution_count": 26,
     "metadata": {},
     "output_type": "execute_result"
    }
   ],
   "source": [
    "belong = driver.find_element_by_xpath('//*[@id=\"contentMain\"]/div[2]/div[2]/ul/li[2]/dl/dd[3]').text\n",
    "belong"
   ]
  },
  {
   "cell_type": "code",
   "execution_count": 27,
   "metadata": {},
   "outputs": [
    {
     "data": {
      "text/plain": [
       "'8선( 11대 , 13대 , 14대 , 15대 , 16대 , 18대 , 19대 , 20대 )'"
      ]
     },
     "execution_count": 27,
     "metadata": {},
     "output_type": "execute_result"
    }
   ],
   "source": [
    "count = driver.find_element_by_xpath('//*[@id=\"contentMain\"]/div[2]/div[2]/ul/li[2]/dl/dd[4]').text\n",
    "count"
   ]
  },
  {
   "cell_type": "code",
   "execution_count": 28,
   "metadata": {},
   "outputs": [
    {
     "data": {
      "text/plain": [
       "'중앙대학교 정외과 졸업\\n중앙대학교 총학생회장(前)\\n조선일보 기자(前)\\n통일민주당 대변인(前)\\n정무장관(前)\\n신한국당 원내총무 겸 국회 운영위원장(前)\\n한나라당 사무총장(前)\\n한나라당 대표최고위원(前)\\n친박연대 대표최고위원(前)\\n중앙대학교 총동창회장(前)\\n새누리당 상임고문(前)\\n새누리당 화성시 갑 당협위원장(現)\\n한일의원연맹 회장(現)'"
      ]
     },
     "execution_count": 28,
     "metadata": {},
     "output_type": "execute_result"
    }
   ],
   "source": [
    "career = driver.find_element_by_xpath('//*[@id=\"contentMain\"]/div[2]/div[2]/ul/li[1]/dl/dd').text\n",
    "career"
   ]
  },
  {
   "cell_type": "code",
   "execution_count": 35,
   "metadata": {},
   "outputs": [
    {
     "data": {
      "text/plain": [
       "'https://www.assembly.go.kr/photo/9770898.jpg'"
      ]
     },
     "execution_count": 35,
     "metadata": {},
     "output_type": "execute_result"
    }
   ],
   "source": [
    "image = driver.find_element_by_xpath('//*[@id=\"contentMain\"]/div[2]/div[2]/ul/li[1]/div/ul/li[1]/img')\n",
    "image = image.get_attribute('src')\n",
    "image"
   ]
  },
  {
   "cell_type": "code",
   "execution_count": 36,
   "metadata": {},
   "outputs": [],
   "source": [
    "# 현재 탭 닫기\n",
    "driver.close()\n",
    "\n",
    "# 맨 처음 탭으로 변경(0번 탭)\n",
    "driver.switch_to.window(driver.window_handles[0])\n",
    "\n",
    "# 로딩 기다리기\n",
    "time.sleep(5)"
   ]
  },
  {
   "cell_type": "code",
   "execution_count": 37,
   "metadata": {},
   "outputs": [],
   "source": [
    "driver.find_element_by_xpath('//*[@id=\"s_mem_nm\"]').clear()"
   ]
  },
  {
   "cell_type": "code",
   "execution_count": 99,
   "metadata": {},
   "outputs": [],
   "source": [
    "def Congressman_crawling(congressman):\n",
    "    members = list(congressman)\n",
    "    이름 = []\n",
    "    생년월일 = []\n",
    "    정당 = []\n",
    "    소속위원회 = []\n",
    "    당선횟수 = []\n",
    "    경력 = []\n",
    "    이미지url = []\n",
    "    \n",
    "    for member in members:\n",
    "        driver.find_element_by_xpath('//*[@id=\"s_mem_nm\"]').send_keys(member)\n",
    "        driver.find_element_by_xpath('//*[@id=\"memCondForm\"]/div/div[1]/fieldset/div/dl[3]/dd/a/img').click()\n",
    "        time.sleep(5)\n",
    "        try:\n",
    "            driver.find_element_by_xpath('//*[@id=\"listArea\"]/div[2]/dl/dd[1]/a').click()\n",
    "        except:\n",
    "            print(member + \"실패\")\n",
    "            driver.find_element_by_xpath('//*[@id=\"s_mem_nm\"]').clear()\n",
    "            continue\n",
    "        \n",
    "        # 최근 열린 탭으로 전환\n",
    "        driver.switch_to.window(driver.window_handles[-1])\n",
    "        time.sleep(5)\n",
    "        \n",
    "        try:\n",
    "            name = driver.find_element_by_xpath('//*[@id=\"contentMain\"]/div[2]/div[2]/ul/li[1]/div/h4').text\n",
    "        except:\n",
    "            name = \" \"\n",
    "            \n",
    "        try:\n",
    "            birth = driver.find_element_by_xpath('//*[@id=\"contentMain\"]/div[2]/div[2]/ul/li[1]/div/ul/li[4]').text\n",
    "        except:\n",
    "            birth = \" \"\n",
    "            \n",
    "        try:\n",
    "            party = driver.find_element_by_xpath('//*[@id=\"contentMain\"]/div[2]/div[2]/ul/li[2]/dl/dd[1]').text\n",
    "        except:\n",
    "            party = \" \"\n",
    "            \n",
    "        try:\n",
    "            ward = driver.find_element_by_xpath('//*[@id=\"contentMain\"]/div[2]/div[2]/ul/li[2]/dl/dd[1]').text\n",
    "        except:\n",
    "            ward = \" \"\n",
    "            \n",
    "        try:\n",
    "            count = driver.find_element_by_xpath('//*[@id=\"contentMain\"]/div[2]/div[2]/ul/li[2]/dl/dd[4]').text\n",
    "        except:\n",
    "            count = \" \"\n",
    "            \n",
    "        try:\n",
    "            career = driver.find_element_by_xpath('//*[@id=\"contentMain\"]/div[2]/div[2]/ul/li[1]/dl/dd').text\n",
    "        except:\n",
    "            career = \" \"\n",
    "            \n",
    "        try:\n",
    "            image = driver.find_element_by_xpath('//*[@id=\"contentMain\"]/div[2]/div[2]/ul/li[1]/div/ul/li[1]/img')\n",
    "            image = image.get_attribute('src')\n",
    "        except:\n",
    "            image = \" \"\n",
    "            \n",
    "        이름.append(name)\n",
    "        생년월일.append(birth)\n",
    "        정당.append(party)\n",
    "        소속위원회.append(ward)\n",
    "        당선횟수.append(count)\n",
    "        경력.append(career)\n",
    "        이미지url.append(image)\n",
    "        \n",
    "        # 현재 탭 닫기\n",
    "        driver.close()\n",
    "        # 맨 처음 탭으로 변경(0번 탭)\n",
    "        driver.switch_to.window(driver.window_handles[0])\n",
    "        # 로딩 기다리기\n",
    "        time.sleep(5)\n",
    "        # 이름명칸 지우기\n",
    "        driver.find_element_by_xpath('//*[@id=\"s_mem_nm\"]').clear()\n",
    "        \n",
    "    return (이름, 생년월일, 정당, 소속위원회, 당선횟수, 경력, 이미지url)"
   ]
  },
  {
   "cell_type": "code",
   "execution_count": 66,
   "metadata": {},
   "outputs": [],
   "source": [
    "members = ['서청원', '조원진', '한선교', '임재훈', '유승민', '홍문종', '김용태', '김무성', '김세연', '김영우', '여상규', \n",
    "           '김성찬', '김정훈', '김종대', '김재원', '김현미', '정종섭', '박인숙', '윤한홍', '홍문표', '김광림', \n",
    "           '최교일', '강석호', '유은혜', '김진태', '박맹우', '박명재', '윤상직', '이장우', '장석춘', '김석기', \n",
    "           '김재경', '유재중', '윤영석', '이양수', '이해찬', '정병국', '진영', '김진표', '윤영일', '이명수', \n",
    "           '강길부', '김두관', '김태흠', '이진복', '추경호', '김성태', '정진석', '주광덕', '황주홍', '권성동', \n",
    "           '김도읍', '정태옥', '김순례', '손혜원', '심상정', '조훈현', '곽대훈', '김학용', '원유철', '윤상현', \n",
    "           '이상민', '강효상', '나경원', '이은재', '정갑윤', '정재호', '김성태', '김수민', '우상호', '이태규', \n",
    "           '정운천', '정은혜', '김경진', '민경욱', '박덕흠', '박선숙', '박성중', '손금주', '신상진', '유기준', \n",
    "           '김관영', '박순자', '박완수', '박주현', '이언주', '이용주', '김상훈', '김종석', '김중로', '문진국', \n",
    "           '백승주', '안상수', '염동열', '이만희', '이학재', '정동영', '정용기', '정유섭', '주호영', '홍일표', \n",
    "           '홍철호', '강석진', '김규환', '김기선', '김성식', '성일종', '신경민', '안호영', '이채익', '이춘석', \n",
    "           '전희경', '정우택', '정인화', '지상욱', '곽상도', '김영춘', '김정재', '박재호', '박지원', '송석준', \n",
    "           '신보라', '오신환', '윤재옥', '윤종필', '이용호', '이정현', '이주영', '이현재', '장제원', '최연혜', \n",
    "           '함진규', '김정호', '맹성규', '송언석', '정점식', '경대수', '권은희', '김명연', '김부겸', '김선동', \n",
    "           '김성원', '김승희', '김한표', '박대출', '송희경', '이상돈', '이종명', '이철규', '이헌승', '임이자', \n",
    "           '장병완', '최인호', '민병두', '박주선', '백재현', '변재일', '심재철', '유민봉', '이은권', '조경태', \n",
    "           '주승용', '최경환', '추혜선', '홍의락', '송갑석', '이규희', '이상헌', '강창일', '김동철', '김삼화', \n",
    "           '김종회', '김종훈', '김현아', '신용현', '안민석', '오영훈', '이종구', '이찬열', '이철희', '장정숙', \n",
    "           '전현희', '전혜숙', '하태경', '황희', '김광수', '김영주', '민홍철', '신창현', '유의동', '전재수', \n",
    "           '정양석', '제윤경', '천정배', '도종환', '서영교', '송영길', '이동섭', '이용득', '이재정', '이종배', \n",
    "           '이혜훈', '조배숙', '채이배', '최도자', '심기준', '김성환', '김한정', '김현권', '노웅래', '오제세', \n",
    "           '윤소하', '이석현', '이정미', '이종걸', '이훈', '표창원', '홍영표', '윤준호', '강훈식', '금태섭', \n",
    "           '박범계', '박영선', '박완주', '설훈', '유성엽', '유승희', '윤후덕', '이개호', '전해철', '조정식', \n",
    "           '한정애', '강병원', '고용진', '김병기', '김영호', '김종민', '김해영', '남인순', '박병석', '박주민', \n",
    "           '서형수', '송옥주', '원혜영', '위성곤', '윤호중', '이원욱', '임종성', '정성호', '정세균', '조웅천', \n",
    "           '진선미', '최운열', '홍익표', '권미혁', '권칠승', '기동민', '김경협', '김민기', '김병관', '김병욱', \n",
    "           '김상희', '김영진', '김정우', '김철민', '김태년', '문희상', '박경미', '박광온', '박용진', '박정', \n",
    "           '박찬대', '박홍근', '백혜련', '서삼석', '소병훈', '송기헌', '신동근', '심재권', '안규백', '어기구',\n",
    "           '어영국', '우원식', '유동수', '윤관석', '윤일규', '이인영', '이학영', '이후삼', '인재근', '정춘숙', \n",
    "           '조승래', '최재성', '추미애', '허윤정']"
   ]
  },
  {
   "cell_type": "code",
   "execution_count": 70,
   "metadata": {
    "scrolled": true
   },
   "outputs": [
    {
     "name": "stdout",
     "output_type": "stream",
     "text": [
      "김수민실패\n",
      "이태규실패\n",
      "김중로실패\n",
      "김삼화실패\n",
      "이동섭실패\n",
      "조웅천실패\n",
      "어영국실패\n"
     ]
    }
   ],
   "source": [
    "이름, 생년월일, 정당, 소속위원회, 경력, 이미지url = Congressman_crawling(members)"
   ]
  },
  {
   "cell_type": "code",
   "execution_count": 73,
   "metadata": {},
   "outputs": [
    {
     "data": {
      "text/plain": [
       "['서청원',\n",
       " '조원진',\n",
       " '한선교',\n",
       " '임재훈',\n",
       " '유승민',\n",
       " '홍문종',\n",
       " '김용태',\n",
       " '김무성',\n",
       " '김세연',\n",
       " '김영우',\n",
       " '여상규',\n",
       " '김성찬',\n",
       " '김정훈',\n",
       " '김종대',\n",
       " '김재원',\n",
       " '김현미',\n",
       " '정종섭',\n",
       " '박인숙',\n",
       " '윤한홍',\n",
       " '홍문표',\n",
       " '김광림',\n",
       " '최교일',\n",
       " '강석호',\n",
       " '유은혜',\n",
       " '김진태',\n",
       " '박맹우',\n",
       " '박명재',\n",
       " '윤상직',\n",
       " '이장우',\n",
       " '장석춘',\n",
       " '김석기',\n",
       " '김재경',\n",
       " '유재중',\n",
       " '윤영석',\n",
       " '이양수',\n",
       " '이해찬',\n",
       " '정병국',\n",
       " '진영',\n",
       " '김진표',\n",
       " '윤영일',\n",
       " '이명수',\n",
       " '강길부',\n",
       " '김두관',\n",
       " '김태흠',\n",
       " '이진복',\n",
       " '추경호',\n",
       " '김성태',\n",
       " '정진석',\n",
       " '주광덕',\n",
       " '황주홍',\n",
       " '권성동',\n",
       " '김도읍',\n",
       " '정태옥',\n",
       " '김순례',\n",
       " '손혜원',\n",
       " '심상정',\n",
       " '조훈현',\n",
       " '곽대훈',\n",
       " '김학용',\n",
       " '원유철',\n",
       " '윤상현',\n",
       " '이상민',\n",
       " '강효상',\n",
       " '나경원',\n",
       " '이은재',\n",
       " '정갑윤',\n",
       " '정재호',\n",
       " '김성태',\n",
       " '우상호',\n",
       " '정운천',\n",
       " '정은혜',\n",
       " '김경진',\n",
       " '민경욱',\n",
       " '박덕흠',\n",
       " '박선숙',\n",
       " '박성중',\n",
       " '손금주',\n",
       " '신상진',\n",
       " '유기준',\n",
       " '김관영',\n",
       " '박순자',\n",
       " '박완수',\n",
       " '박주현',\n",
       " '이언주',\n",
       " '이용주',\n",
       " '김상훈',\n",
       " '김종석',\n",
       " '문진국',\n",
       " '백승주',\n",
       " '안상수',\n",
       " '염동열',\n",
       " '이만희',\n",
       " '이학재',\n",
       " '정동영',\n",
       " '정용기',\n",
       " '정유섭',\n",
       " '주호영',\n",
       " '홍일표',\n",
       " '홍철호',\n",
       " '강석진',\n",
       " '김규환',\n",
       " '김기선',\n",
       " '김성식',\n",
       " '성일종',\n",
       " '신경민',\n",
       " '안호영',\n",
       " '이채익',\n",
       " '이춘석',\n",
       " '전희경',\n",
       " '정우택',\n",
       " '정인화',\n",
       " '지상욱',\n",
       " '곽상도',\n",
       " '김영춘',\n",
       " '김정재',\n",
       " '박재호',\n",
       " '박지원',\n",
       " '송석준',\n",
       " '신보라',\n",
       " '오신환',\n",
       " '윤재옥',\n",
       " '윤종필',\n",
       " '이용호',\n",
       " '이정현',\n",
       " '이주영',\n",
       " '이현재',\n",
       " '장제원',\n",
       " '최연혜',\n",
       " '함진규',\n",
       " '김정호',\n",
       " '맹성규',\n",
       " '송언석',\n",
       " '정점식',\n",
       " '경대수',\n",
       " '권은희',\n",
       " '김명연',\n",
       " '김부겸',\n",
       " '김선동',\n",
       " '김성원',\n",
       " '김승희',\n",
       " '김한표',\n",
       " '박대출',\n",
       " '송희경',\n",
       " '이상돈',\n",
       " '이종명',\n",
       " '이철규',\n",
       " '이헌승',\n",
       " '임이자',\n",
       " '장병완',\n",
       " '최인호',\n",
       " '민병두',\n",
       " '박주선',\n",
       " '백재현',\n",
       " '변재일',\n",
       " '심재철',\n",
       " '유민봉',\n",
       " '이은권',\n",
       " '조경태',\n",
       " '주승용',\n",
       " '최경환',\n",
       " '추혜선',\n",
       " '홍의락',\n",
       " '송갑석',\n",
       " '이규희',\n",
       " '이상헌',\n",
       " '강창일',\n",
       " '김동철',\n",
       " '김종회',\n",
       " '김종훈',\n",
       " '김현아',\n",
       " '신용현',\n",
       " '안민석',\n",
       " '오영훈',\n",
       " '이종구',\n",
       " '이찬열',\n",
       " '이철희',\n",
       " '장정숙',\n",
       " '전현희',\n",
       " '전혜숙',\n",
       " '하태경',\n",
       " '황희',\n",
       " '김광수',\n",
       " '김영주',\n",
       " '민홍철',\n",
       " '신창현',\n",
       " '유의동',\n",
       " '전재수',\n",
       " '정양석',\n",
       " '제윤경',\n",
       " '천정배',\n",
       " '도종환',\n",
       " '서영교',\n",
       " '송영길',\n",
       " '이용득',\n",
       " '이재정',\n",
       " '이종배',\n",
       " '이혜훈',\n",
       " '조배숙',\n",
       " '채이배',\n",
       " '최도자',\n",
       " '심기준',\n",
       " '김성환',\n",
       " '김한정',\n",
       " '김현권',\n",
       " '노웅래',\n",
       " '오제세',\n",
       " '윤소하',\n",
       " '이석현',\n",
       " '이정미',\n",
       " '이종걸',\n",
       " '이훈',\n",
       " '표창원',\n",
       " '홍영표',\n",
       " '윤준호',\n",
       " '강훈식',\n",
       " '금태섭',\n",
       " '박범계',\n",
       " '박영선',\n",
       " '박완주',\n",
       " '설훈',\n",
       " '유성엽',\n",
       " '유승희',\n",
       " '윤후덕',\n",
       " '이개호',\n",
       " '전해철',\n",
       " '조정식',\n",
       " '한정애',\n",
       " '강병원',\n",
       " '고용진',\n",
       " '김병기',\n",
       " '김영호',\n",
       " '김종민',\n",
       " '김해영',\n",
       " '남인순',\n",
       " '박병석',\n",
       " '박주민',\n",
       " '서형수',\n",
       " '송옥주',\n",
       " '원혜영',\n",
       " '위성곤',\n",
       " '윤호중',\n",
       " '이원욱',\n",
       " '임종성',\n",
       " '정성호',\n",
       " '정세균',\n",
       " '진선미',\n",
       " '최운열',\n",
       " '홍익표',\n",
       " '권미혁',\n",
       " '권칠승',\n",
       " '기동민',\n",
       " '김경협',\n",
       " '김민기',\n",
       " '김병관',\n",
       " '김병욱',\n",
       " '김상희',\n",
       " '김영진',\n",
       " '김정우',\n",
       " '김철민',\n",
       " '김태년',\n",
       " '문희상',\n",
       " '박경미',\n",
       " '박광온',\n",
       " '박용진',\n",
       " '박정',\n",
       " '박찬대',\n",
       " '박홍근',\n",
       " '백혜련',\n",
       " '서삼석',\n",
       " '소병훈',\n",
       " '송기헌',\n",
       " '신동근',\n",
       " '심재권',\n",
       " '안규백',\n",
       " '어기구',\n",
       " '우원식',\n",
       " '유동수',\n",
       " '윤관석',\n",
       " '윤일규',\n",
       " '이인영',\n",
       " '이학영',\n",
       " '이후삼',\n",
       " '인재근',\n",
       " '정춘숙',\n",
       " '조승래',\n",
       " '최재성',\n",
       " '추미애',\n",
       " '허윤정']"
      ]
     },
     "execution_count": 73,
     "metadata": {},
     "output_type": "execute_result"
    }
   ],
   "source": [
    "이름"
   ]
  },
  {
   "cell_type": "code",
   "execution_count": 82,
   "metadata": {},
   "outputs": [],
   "source": [
    "import pandas as pd\n",
    "congressman_df = pd.DataFrame(data={'이름':이름, '생년월일':생년월일, '정당':정당, '소속위원회':소속위원회, '경력':경력, '이미지url':이미지url })\n",
    "congressman_df.to_csv('국회의원세부사항.csv', encoding='utf-8-sig', index=False)"
   ]
  },
  {
   "cell_type": "code",
   "execution_count": 101,
   "metadata": {},
   "outputs": [
    {
     "name": "stdout",
     "output_type": "stream",
     "text": [
      "김수민실패\n",
      "이태규실패\n",
      "김중로실패\n",
      "김삼화실패\n",
      "이동섭실패\n",
      "조웅천실패\n",
      "어영국실패\n"
     ]
    }
   ],
   "source": [
    "for member in members:\n",
    "    당선횟수 = []\n",
    "    \n",
    "    driver.find_element_by_xpath('//*[@id=\"s_mem_nm\"]').send_keys(member)\n",
    "    driver.find_element_by_xpath('//*[@id=\"memCondForm\"]/div/div[1]/fieldset/div/dl[3]/dd/a/img').click()\n",
    "    time.sleep(5)\n",
    "    try:\n",
    "        driver.find_element_by_xpath('//*[@id=\"listArea\"]/div[2]/dl/dd[1]/a').click()\n",
    "    except:\n",
    "        print(member + \"실패\")\n",
    "        driver.find_element_by_xpath('//*[@id=\"s_mem_nm\"]').clear()\n",
    "        continue\n",
    "        \n",
    "    # 최근 열린 탭으로 전환\n",
    "    driver.switch_to.window(driver.window_handles[-1])\n",
    "    time.sleep(5)\n",
    "        \n",
    "    try:\n",
    "        count = driver.find_element_by_xpath('//*[@id=\"contentMain\"]/div[2]/div[2]/ul/li[2]/dl/dd[4]').text\n",
    "    except:\n",
    "        count = \" \"\n",
    "        \n",
    "    당선횟수.append(count)\n",
    "    \n",
    "    # 현재 탭 닫기\n",
    "    driver.close()\n",
    "    # 맨 처음 탭으로 변경(0번 탭)\n",
    "    driver.switch_to.window(driver.window_handles[0])\n",
    "    # 로딩 기다리기\n",
    "    time.sleep(5)\n",
    "    # 이름명칸 지우기\n",
    "    driver.find_element_by_xpath('//*[@id=\"s_mem_nm\"]').clear()"
   ]
  },
  {
   "cell_type": "code",
   "execution_count": 88,
   "metadata": {
    "scrolled": true
   },
   "outputs": [
    {
     "data": {
      "text/plain": [
       "295"
      ]
     },
     "execution_count": 88,
     "metadata": {},
     "output_type": "execute_result"
    }
   ],
   "source": [
    "print(len(members))\n",
    "print(len(pd.Series(members).unique()))"
   ]
  },
  {
   "cell_type": "code",
   "execution_count": 102,
   "metadata": {},
   "outputs": [
    {
     "data": {
      "text/html": [
       "<div>\n",
       "<style scoped>\n",
       "    .dataframe tbody tr th:only-of-type {\n",
       "        vertical-align: middle;\n",
       "    }\n",
       "\n",
       "    .dataframe tbody tr th {\n",
       "        vertical-align: top;\n",
       "    }\n",
       "\n",
       "    .dataframe thead th {\n",
       "        text-align: right;\n",
       "    }\n",
       "</style>\n",
       "<table border=\"1\" class=\"dataframe\">\n",
       "  <thead>\n",
       "    <tr style=\"text-align: right;\">\n",
       "      <th></th>\n",
       "      <th>이름</th>\n",
       "      <th>생년월일</th>\n",
       "      <th>정당</th>\n",
       "      <th>소속위원회</th>\n",
       "      <th>경력</th>\n",
       "      <th>이미지url</th>\n",
       "    </tr>\n",
       "  </thead>\n",
       "  <tbody>\n",
       "    <tr>\n",
       "      <th>0</th>\n",
       "      <td>서청원</td>\n",
       "      <td>1943-04-03</td>\n",
       "      <td>우리공화당</td>\n",
       "      <td>우리공화당</td>\n",
       "      <td>중앙대학교 정외과 졸업\\n중앙대학교 총학생회장(前)\\n조선일보 기자(前)\\n통일민주...</td>\n",
       "      <td>https://www.assembly.go.kr/photo/9770898.jpg</td>\n",
       "    </tr>\n",
       "    <tr>\n",
       "      <th>1</th>\n",
       "      <td>조원진</td>\n",
       "      <td>1959-01-07</td>\n",
       "      <td>우리공화당</td>\n",
       "      <td>우리공화당</td>\n",
       "      <td>■ 경력\\n\\n자유공화당 공동대표(現)\\n우리공화당 대표(前)\\n우리공화당 공동대표...</td>\n",
       "      <td>https://www.assembly.go.kr/photo/9770648.jpg</td>\n",
       "    </tr>\n",
       "    <tr>\n",
       "      <th>2</th>\n",
       "      <td>한선교</td>\n",
       "      <td>1959-06-23</td>\n",
       "      <td>미래한국당</td>\n",
       "      <td>미래한국당</td>\n",
       "      <td>성균관대학교 대학원 정치학 석사\\n성균관대 물리학과 졸업\\n육군현역, 병장 만기제대...</td>\n",
       "      <td>https://www.assembly.go.kr/photo/9770477.jpg</td>\n",
       "    </tr>\n",
       "    <tr>\n",
       "      <th>3</th>\n",
       "      <td>임재훈</td>\n",
       "      <td>1966-01-01</td>\n",
       "      <td>민생당</td>\n",
       "      <td>민생당</td>\n",
       "      <td>- 現 국회 교육위원회 간사\\n- 現 제 20대 국회의원(교육위원회)\\n- 前 바른...</td>\n",
       "      <td>https://www.assembly.go.kr/photo/9771101.jpg</td>\n",
       "    </tr>\n",
       "    <tr>\n",
       "      <th>4</th>\n",
       "      <td>유승민</td>\n",
       "      <td>1958-01-07</td>\n",
       "      <td>미래통합당</td>\n",
       "      <td>미래통합당</td>\n",
       "      <td>1982. 서울대학교 경제학과 졸업\\n1987. 미 위스콘신대(매디슨) 경제학 박사...</td>\n",
       "      <td>https://www.assembly.go.kr/photo/9770497.jpg</td>\n",
       "    </tr>\n",
       "  </tbody>\n",
       "</table>\n",
       "</div>"
      ],
      "text/plain": [
       "    이름        생년월일     정당  소속위원회  \\\n",
       "0  서청원  1943-04-03  우리공화당  우리공화당   \n",
       "1  조원진  1959-01-07  우리공화당  우리공화당   \n",
       "2  한선교  1959-06-23  미래한국당  미래한국당   \n",
       "3  임재훈  1966-01-01    민생당    민생당   \n",
       "4  유승민  1958-01-07  미래통합당  미래통합당   \n",
       "\n",
       "                                                  경력  \\\n",
       "0  중앙대학교 정외과 졸업\\n중앙대학교 총학생회장(前)\\n조선일보 기자(前)\\n통일민주...   \n",
       "1  ■ 경력\\n\\n자유공화당 공동대표(現)\\n우리공화당 대표(前)\\n우리공화당 공동대표...   \n",
       "2  성균관대학교 대학원 정치학 석사\\n성균관대 물리학과 졸업\\n육군현역, 병장 만기제대...   \n",
       "3  - 現 국회 교육위원회 간사\\n- 現 제 20대 국회의원(교육위원회)\\n- 前 바른...   \n",
       "4  1982. 서울대학교 경제학과 졸업\\n1987. 미 위스콘신대(매디슨) 경제학 박사...   \n",
       "\n",
       "                                         이미지url  \n",
       "0  https://www.assembly.go.kr/photo/9770898.jpg  \n",
       "1  https://www.assembly.go.kr/photo/9770648.jpg  \n",
       "2  https://www.assembly.go.kr/photo/9770477.jpg  \n",
       "3  https://www.assembly.go.kr/photo/9771101.jpg  \n",
       "4  https://www.assembly.go.kr/photo/9770497.jpg  "
      ]
     },
     "execution_count": 102,
     "metadata": {},
     "output_type": "execute_result"
    }
   ],
   "source": [
    "congressman_df = pd.read_csv('국회의원세부사항.csv')\n",
    "congressman_df.head()"
   ]
  },
  {
   "cell_type": "code",
   "execution_count": 104,
   "metadata": {},
   "outputs": [
    {
     "data": {
      "text/plain": [
       "['초선( 20대 )']"
      ]
     },
     "execution_count": 104,
     "metadata": {},
     "output_type": "execute_result"
    }
   ],
   "source": [
    "당선횟수"
   ]
  },
  {
   "cell_type": "code",
   "execution_count": 103,
   "metadata": {},
   "outputs": [
    {
     "name": "stdout",
     "output_type": "stream",
     "text": [
      "<class 'pandas.core.frame.DataFrame'>\n",
      "RangeIndex: 288 entries, 0 to 287\n",
      "Data columns (total 6 columns):\n",
      " #   Column  Non-Null Count  Dtype \n",
      "---  ------  --------------  ----- \n",
      " 0   이름      288 non-null    object\n",
      " 1   생년월일    288 non-null    object\n",
      " 2   정당      288 non-null    object\n",
      " 3   소속위원회   288 non-null    object\n",
      " 4   경력      259 non-null    object\n",
      " 5   이미지url  288 non-null    object\n",
      "dtypes: object(6)\n",
      "memory usage: 13.6+ KB\n",
      "None\n",
      "1\n"
     ]
    }
   ],
   "source": [
    "print(congressman_df.info())\n",
    "print(len(당선횟수))"
   ]
  }
 ],
 "metadata": {
  "kernelspec": {
   "display_name": "Python 3",
   "language": "python",
   "name": "python3"
  },
  "language_info": {
   "codemirror_mode": {
    "name": "ipython",
    "version": 3
   },
   "file_extension": ".py",
   "mimetype": "text/x-python",
   "name": "python",
   "nbconvert_exporter": "python",
   "pygments_lexer": "ipython3",
   "version": "3.7.6"
  }
 },
 "nbformat": 4,
 "nbformat_minor": 4
}
