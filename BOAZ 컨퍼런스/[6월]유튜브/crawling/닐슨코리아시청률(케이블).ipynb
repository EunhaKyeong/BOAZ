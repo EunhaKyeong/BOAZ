{
 "cells": [
  {
   "cell_type": "code",
   "execution_count": 4,
   "metadata": {},
   "outputs": [],
   "source": [
    "import requests\n",
    "import time\n",
    "import calendar\n",
    "import re\n",
    "import pandas as pd\n",
    "from selenium import webdriver\n",
    "from bs4 import BeautifulSoup\n",
    "from datetime import datetime, timedelta"
   ]
  },
  {
   "cell_type": "code",
   "execution_count": 5,
   "metadata": {},
   "outputs": [],
   "source": [
    "def nielsenKoreaCrawlling(startYear, startMonth, startDay, url, topN, dates, channels, programs, ratings):\n",
    "    # 넬슨코리아 시청률 페이지 접속\n",
    "    driver = webdriver.Chrome('./drivers/chromedriver.exe')\n",
    "    driver.implicitly_wait(3)\n",
    "    driver.get(url)\n",
    "    driver.maximize_window()\n",
    "\n",
    "    # 검색 가능한 년도, 월, 일 알아내기\n",
    "    html = driver.page_source\n",
    "    soup = BeautifulSoup(html, 'html.parser')\n",
    "    # 년도\n",
    "    sYear = soup.find('select', {'name' : 'sYear'})\n",
    "    sYearTotal = [int(re.sub('[^0-9]', '', i.get_text())) for i in sYear.find_all('option')]\n",
    "    # startYear 선택\n",
    "    if startYear in sYearTotal:\n",
    "        sYearIndex = sYearTotal.index(startYear) + 1\n",
    "        driver.find_element_by_xpath('//*[@id=\"select\"]/option[' + str(sYearIndex) + ']').click()\n",
    "    else:\n",
    "        return \"No startYear!\"\n",
    "    # startMonth 선택\n",
    "    if (startMonth>0)&(startMonth<=12):\n",
    "        driver.find_element_by_xpath('//*[@id=\"select2\"]/option[' + str(startMonth) + ']').click()\n",
    "    else:\n",
    "        return \"No startMonth!\"\n",
    "    \n",
    "    # 검색버튼 클릭\n",
    "    driver.find_element_by_xpath('//*[@id=\"sub_body\"]/table[1]/tbody/tr/td/form/table/tbody/tr/td[2]/img').click()\n",
    "    # 전국버튼 클릭\n",
    "    driver.find_element_by_xpath('//*[@id=\"sub_body\"]/table[2]/tbody/tr/td/table/tbody/tr/td[1]').click()\n",
    "\n",
    "    # dayCalc 구하기\n",
    "    dayCalc = (datetime.now() - datetime(startYear, startMonth, startDay)).days\n",
    "    print(str(startYear) + '-' + str(startMonth) + '-' + str(startDay) + ' ~ ' + datetime.now().strftime('%Y-%m-%d') + ':' +  str(dayCalc))\n",
    "    cnt = 0\n",
    "    isbreak = True\n",
    "    \n",
    "    # crawlling\n",
    "    while(1):\n",
    "        try:\n",
    "            driver.find_element_by_xpath('//*[@id=\"select\"]').click()\n",
    "            driver.find_element_by_xpath('//*[@id=\"select\"]/option[' + str(sYearIndex) + ']').click()\n",
    "            while(1):\n",
    "                driver.find_element_by_xpath('//*[@id=\"select2\"]').click()\n",
    "                driver.find_element_by_xpath('//*[@id=\"select2\"]/option[' + str(startMonth) + ']').click()\n",
    "                while (1):\n",
    "                    driver.find_element_by_xpath('//*[@id=\"select1\"]').click()\n",
    "                    driver.find_element_by_xpath('//*[@id=\"select1\"]/option[' + str(startDay) + ']').click()\n",
    "                    driver.find_element_by_xpath('//*[@id=\"sub_body\"]/table[1]/tbody/tr/td/form/table/tbody/tr/td[2]/img').click()  # 검색 버튼\n",
    "                    driver.find_element_by_xpath('//*[@id=\"sub_body\"]/table[2]/tbody/tr/td/table/tbody/tr/td[1]').click()   # 전국 버튼\n",
    "\n",
    "                    # 현재 날짜 페이지 html parsing\n",
    "                    html2 = driver.page_source\n",
    "                    soup2 = BeautifulSoup(html2, 'html.parser')\n",
    "\n",
    "                    # dates append\n",
    "                    date = soup2.find('td', {'class' : 'ranking_date'})\n",
    "                    dateText = [re.sub(\"[^0-9.]\", '', date.get_text()) for i in range(topN)]\n",
    "                    dates.append(dateText)\n",
    "\n",
    "                    # channels append\n",
    "                    channel = soup2.find_all('td', {'class' : 'tb_txt_center'})\n",
    "                    channelText = [channel[2*i+1].get_text().replace('\\t', '') for i in range(topN)]\n",
    "                    channels.append(channelText)\n",
    "                        \n",
    "                    # programs append\n",
    "                    program = soup2.find_all('td', {'class' : 'tb_txt'})\n",
    "                    programText = [program[i].get_text().replace('\\t', '') for i in range(topN)]\n",
    "                    programs.append(programText)\n",
    "\n",
    "                    # ratings append\n",
    "                    rating = soup2.find_all('td', {'align' : 'center'})\n",
    "                    ratingText = [re.sub('[^0-9.]', '', rating[i].get_text()) for i in range(1, topN+1)]\n",
    "                    ratings.append(ratingText)\n",
    "\n",
    "                    print(cnt)\n",
    "                    cnt += 1\n",
    "                    if (cnt >= dayCalc):\n",
    "                        isbreak = False\n",
    "                        break\n",
    "\n",
    "                    startDay += 1\n",
    "                    if startDay > calendar.monthrange(sYearTotal[sYearIndex-1], startMonth)[1]:\n",
    "                        startDay = 1\n",
    "                        break\n",
    "                    \n",
    "                if (isbreak == False):\n",
    "                    break\n",
    "                startMonth += 1\n",
    "                if (startMonth > 12):\n",
    "                    startMonth = 1\n",
    "                    break\n",
    "                \n",
    "            if (isbreak == False):\n",
    "                break     \n",
    "            sYearIndex += 1        \n",
    "            \n",
    "        except Exception as e:\n",
    "            errorDate = datetime(sYearTotal[sYearIndex-1], startMonth, startDay)\n",
    "            nextDate = errorDate + timedelta(days=1)\n",
    "            print(\"=================================Error!================================\")\n",
    "            print(e)\n",
    "            print(\"Error cnt : \", cnt)\n",
    "            print(\"Error date : \", errorDate)\n",
    "            print(\"Next date : \", nextDate)\n",
    "            print(\"=======================================================================\")\n",
    "            nielsenKoreaCrawlling(nextDate.year, nextDate.month, nextDate.day, driver.current_url, len(dateText), dates, channels, programs, ratings)\n",
    "            break\n",
    "        \n",
    "    return dates, channels, programs, ratings"
   ]
  },
  {
   "cell_type": "code",
   "execution_count": 41,
   "metadata": {
    "tags": []
   },
   "outputs": [
    {
     "output_type": "stream",
     "name": "stdout",
     "text": "2018-1-1-2020-06-24:905\n0\n1\n2\n3\n4\n5\n6\n7\n8\n9\n10\n11\n12\n13\n14\n15\n16\n17\n18\n19\n20\n21\n22\n23\n24\n25\n26\n27\n28\n29\n30\n31\n32\n33\n34\n35\n36\n37\n38\n39\n40\n41\n42\n43\n44\n45\n46\n47\n48\n49\n50\n51\n52\n53\n54\n55\n56\n57\n58\n59\n60\n61\n62\n63\n64\n65\n66\n67\n68\n69\n70\n71\n72\n73\n74\n75\n76\n77\n78\n79\n80\n81\n82\n83\n84\n85\n86\n87\n88\n89\n90\n91\n92\n93\n94\n95\n96\n97\n98\n99\n100\n101\n102\n103\n104\n105\n106\n107\n108\n109\n110\n111\n112\n113\n114\n115\n116\n117\n118\n119\n120\n121\n122\n123\n124\n125\n126\n127\n128\n129\n130\n131\n132\n133\n134\n135\n136\n137\n138\n139\n140\n141\n142\n143\n144\n145\n146\n147\n148\n149\n150\n151\n152\n153\n154\n155\n156\n157\n158\n159\n160\n161\n162\n163\n164\n165\n166\n167\n168\n169\n170\n171\n172\n173\n174\n175\n176\n177\n178\n179\n180\n181\n182\n183\n184\n185\n186\n187\n188\n189\n190\n191\n192\n193\n194\n195\n196\n197\n198\n199\n200\n201\n202\n203\n204\n205\n206\n207\n208\n209\n210\n211\n212\n213\n214\n215\n216\n217\n218\n219\n220\n221\n222\n223\n224\n225\n226\n227\n228\n229\n230\n231\n232\n233\n234\n235\n236\n237\n238\n239\n240\n241\n242\n243\n244\n245\n246\n247\n248\n249\n250\n251\n252\n253\n254\n255\n256\n257\n258\n259\n260\n261\n262\n263\n264\n265\n266\n267\n268\n269\n270\n271\n272\n273\n274\n275\n276\n277\n278\n279\n280\n281\n282\n283\n284\n285\n286\n287\n288\n289\n290\n291\n292\n293\n294\n295\n296\n297\n298\n299\n300\n301\n302\n303\n304\n305\n306\n307\n308\n309\n310\n311\n312\n313\n314\n315\n316\n317\n318\n319\n320\n321\n322\n323\n324\n325\n326\n327\n328\n329\n330\n331\n332\n333\n334\n335\n336\n337\n338\n339\n340\n341\n342\n343\n344\n345\n346\n347\n348\n349\n350\n351\n352\n353\n354\n355\n356\n357\n358\n359\n360\n361\n362\n363\n364\n365\n366\n367\n368\n369\n370\n371\n372\n373\n374\n375\n376\n377\n378\n379\n380\n381\n382\n383\n384\n385\n386\n387\n388\n389\n390\n391\n392\n393\n394\n395\n396\n397\n398\n399\n400\n401\n402\n403\n404\n405\n406\n407\n408\n409\n410\n411\n412\n413\n414\n415\n416\n417\n=================================Error!================================\nlist index out of range\nError cnt :  418\nError date :  2019-02-23 00:00:00\nNext date :  2019-02-24 00:00:00\n=======================================================================\n2019-2-24-2020-06-24:486\n0\n1\n2\n3\n4\n5\n6\n7\n8\n9\n10\n11\n12\n13\n14\n15\n16\n17\n18\n19\n20\n21\n22\n23\n24\n25\n26\n27\n28\n29\n30\n31\n32\n33\n34\n35\n36\n37\n38\n39\n40\n41\n42\n43\n44\n45\n46\n47\n48\n49\n50\n51\n52\n53\n54\n55\n56\n57\n58\n59\n60\n61\n62\n63\n64\n65\n66\n67\n68\n69\n70\n71\n72\n73\n74\n75\n76\n77\n78\n79\n80\n81\n82\n83\n84\n85\n86\n87\n88\n89\n90\n91\n92\n93\n94\n95\n96\n97\n98\n99\n100\n101\n102\n103\n104\n105\n106\n107\n108\n109\n110\n111\n112\n113\n114\n115\n116\n117\n118\n119\n120\n121\n122\n123\n124\n125\n126\n127\n128\n129\n130\n131\n132\n133\n134\n135\n136\n137\n138\n139\n140\n141\n142\n143\n144\n145\n146\n147\n148\n149\n150\n151\n152\n153\n154\n155\n156\n157\n158\n159\n160\n161\n162\n163\n164\n165\n166\n167\n168\n169\n170\n171\n172\n173\n174\n175\n176\n177\n178\n179\n180\n181\n182\n183\n184\n185\n186\n187\n188\n189\n190\n191\n192\n193\n194\n195\n196\n197\n198\n199\n200\n201\n202\n203\n204\n205\n206\n207\n208\n209\n210\n211\n212\n213\n214\n215\n216\n217\n218\n219\n220\n221\n222\n223\n224\n225\n226\n227\n228\n229\n230\n231\n232\n233\n234\n235\n236\n237\n238\n239\n240\n241\n242\n243\n244\n245\n246\n247\n248\n249\n250\n251\n252\n253\n254\n255\n256\n257\n258\n259\n260\n261\n262\n263\n264\n265\n266\n267\n268\n269\n270\n271\n272\n273\n274\n275\n276\n277\n278\n279\n280\n281\n282\n283\n284\n285\n286\n287\n288\n289\n290\n291\n292\n293\n294\n295\n296\n297\n298\n299\n300\n301\n302\n303\n304\n305\n306\n307\n308\n309\n310\n311\n312\n313\n314\n315\n316\n317\n318\n319\n320\n321\n322\n323\n324\n325\n326\n327\n328\n329\n330\n331\n332\n333\n334\n335\n336\n337\n338\n339\n340\n341\n342\n343\n344\n345\n346\n347\n348\n349\n350\n351\n352\n353\n354\n355\n356\n357\n358\n359\n360\n361\n362\n363\n364\n365\n366\n367\n368\n369\n=================================Error!================================\nMessage: no such element: Unable to locate element: {\"method\":\"xpath\",\"selector\":\"//*[@id=\"select1\"]/option[29]\"}\n  (Session info: chrome=83.0.4103.106)\n\nError cnt :  370\nError date :  2020-02-29 00:00:00\nNext date :  2020-03-01 00:00:00\n=======================================================================\n2020-3-1-2020-06-24:115\n0\n1\n2\n3\n4\n5\n6\n7\n8\n9\n10\n11\n12\n13\n14\n15\n16\n17\n18\n19\n20\n21\n22\n23\n24\n25\n26\n27\n28\n29\n30\n31\n32\n33\n34\n35\n36\n37\n38\n39\n40\n41\n42\n43\n44\n45\n46\n47\n48\n49\n50\n51\n52\n53\n54\n55\n56\n57\n58\n59\n60\n61\n62\n63\n64\n65\n66\n67\n68\n69\n70\n71\n72\n73\n74\n75\n76\n77\n78\n79\n80\n81\n82\n83\n84\n85\n86\n87\n88\n89\n90\n91\n92\n93\n94\n95\n96\n97\n98\n99\n100\n101\n102\n103\n104\n105\n106\n107\n108\n109\n110\n111\n112\n113\n114\n"
    }
   ],
   "source": [
    "url = 'https://www.nielsenkorea.co.kr/tv_terrestrial_day.asp?menu=Tit_1&sub_menu=3_1&area=01&begin_date=202006'\n",
    "dates = []\n",
    "channels = []\n",
    "programs = []\n",
    "ratings = []\n",
    "dates, channels, programs, ratings = nielsenKoreaCrawlling(2018, 1, 1, url, 10, dates, channels, programs, ratings)"
   ]
  },
  {
   "cell_type": "code",
   "execution_count": 45,
   "metadata": {
    "tags": []
   },
   "outputs": [
    {
     "output_type": "stream",
     "name": "stdout",
     "text": "904\n903\n903\n903\n"
    }
   ],
   "source": [
    "print(len(dates))\n",
    "print(len(channels))\n",
    "print(len(programs))\n",
    "print(len(ratings))"
   ]
  },
  {
   "cell_type": "code",
   "execution_count": 48,
   "metadata": {},
   "outputs": [],
   "source": [
    "del(dates[418])"
   ]
  },
  {
   "cell_type": "code",
   "execution_count": 52,
   "metadata": {
    "tags": []
   },
   "outputs": [
    {
     "output_type": "stream",
     "name": "stdout",
     "text": "9030\n9030\n9030\n9030\n"
    }
   ],
   "source": [
    "datesFinal = sum(dates, [])\n",
    "channelsFinal = sum(channels, [])\n",
    "programsFinal = sum(programs, [])\n",
    "ratingsFinal = sum(ratings, [])\n",
    "\n",
    "print(len(datesFinal))\n",
    "print(len(channelsFinal))\n",
    "print(len(programsFinal))\n",
    "print(len(ratingsFinal))"
   ]
  },
  {
   "cell_type": "code",
   "execution_count": 53,
   "metadata": {},
   "outputs": [],
   "source": [
    "df = pd.DataFrame({\"날짜\" : datesFinal, \"채널\" : channelsFinal, \"프로그램\" : programsFinal, \"시청률\" : ratingsFinal})\n",
    "df.to_csv(\"20200623 닐슨코리아시청률(케이블).csv\", encoding='utf-8', index=False)\n",
    "df.to_excel(\"20200623 닐슨코리아시청률(케이블).xlsx\")"
   ]
  },
  {
   "cell_type": "code",
   "execution_count": 5,
   "metadata": {},
   "outputs": [
    {
     "output_type": "execute_result",
     "data": {
      "text/plain": "           날짜   채널                 프로그램    시청률\n0  2018.01.01  tvN          사장이더많이먹는강식당  3.450\n1  2018.01.01  tvN  월화드라마(막돼먹은영애씨16<본>)  2.694\n2  2018.01.01  tvN          사장이더많이먹는강식당  2.679\n3  2018.01.01  tvN          사장이더많이먹는강식당  2.296\n4  2018.01.01  tvN          사장이더많이먹는강식당  2.215",
      "text/html": "<div>\n<style scoped>\n    .dataframe tbody tr th:only-of-type {\n        vertical-align: middle;\n    }\n\n    .dataframe tbody tr th {\n        vertical-align: top;\n    }\n\n    .dataframe thead th {\n        text-align: right;\n    }\n</style>\n<table border=\"1\" class=\"dataframe\">\n  <thead>\n    <tr style=\"text-align: right;\">\n      <th></th>\n      <th>날짜</th>\n      <th>채널</th>\n      <th>프로그램</th>\n      <th>시청률</th>\n    </tr>\n  </thead>\n  <tbody>\n    <tr>\n      <th>0</th>\n      <td>2018.01.01</td>\n      <td>tvN</td>\n      <td>사장이더많이먹는강식당</td>\n      <td>3.450</td>\n    </tr>\n    <tr>\n      <th>1</th>\n      <td>2018.01.01</td>\n      <td>tvN</td>\n      <td>월화드라마(막돼먹은영애씨16&lt;본&gt;)</td>\n      <td>2.694</td>\n    </tr>\n    <tr>\n      <th>2</th>\n      <td>2018.01.01</td>\n      <td>tvN</td>\n      <td>사장이더많이먹는강식당</td>\n      <td>2.679</td>\n    </tr>\n    <tr>\n      <th>3</th>\n      <td>2018.01.01</td>\n      <td>tvN</td>\n      <td>사장이더많이먹는강식당</td>\n      <td>2.296</td>\n    </tr>\n    <tr>\n      <th>4</th>\n      <td>2018.01.01</td>\n      <td>tvN</td>\n      <td>사장이더많이먹는강식당</td>\n      <td>2.215</td>\n    </tr>\n  </tbody>\n</table>\n</div>"
     },
     "metadata": {},
     "execution_count": 5
    }
   ],
   "source": [
    "df = pd.read_csv('20200623 닐슨코리아시청률(케이블).csv')\n",
    "df.head()"
   ]
  },
  {
   "cell_type": "code",
   "execution_count": 6,
   "metadata": {},
   "outputs": [
    {
     "output_type": "execute_result",
     "data": {
      "text/plain": "           날짜   채널                 프로그램    시청률 요일\n0  2018.01.01  tvN          사장이더많이먹는강식당  3.450  월\n1  2018.01.01  tvN  월화드라마(막돼먹은영애씨16<본>)  2.694  월\n2  2018.01.01  tvN          사장이더많이먹는강식당  2.679  월\n3  2018.01.01  tvN          사장이더많이먹는강식당  2.296  월\n4  2018.01.01  tvN          사장이더많이먹는강식당  2.215  월",
      "text/html": "<div>\n<style scoped>\n    .dataframe tbody tr th:only-of-type {\n        vertical-align: middle;\n    }\n\n    .dataframe tbody tr th {\n        vertical-align: top;\n    }\n\n    .dataframe thead th {\n        text-align: right;\n    }\n</style>\n<table border=\"1\" class=\"dataframe\">\n  <thead>\n    <tr style=\"text-align: right;\">\n      <th></th>\n      <th>날짜</th>\n      <th>채널</th>\n      <th>프로그램</th>\n      <th>시청률</th>\n      <th>요일</th>\n    </tr>\n  </thead>\n  <tbody>\n    <tr>\n      <th>0</th>\n      <td>2018.01.01</td>\n      <td>tvN</td>\n      <td>사장이더많이먹는강식당</td>\n      <td>3.450</td>\n      <td>월</td>\n    </tr>\n    <tr>\n      <th>1</th>\n      <td>2018.01.01</td>\n      <td>tvN</td>\n      <td>월화드라마(막돼먹은영애씨16&lt;본&gt;)</td>\n      <td>2.694</td>\n      <td>월</td>\n    </tr>\n    <tr>\n      <th>2</th>\n      <td>2018.01.01</td>\n      <td>tvN</td>\n      <td>사장이더많이먹는강식당</td>\n      <td>2.679</td>\n      <td>월</td>\n    </tr>\n    <tr>\n      <th>3</th>\n      <td>2018.01.01</td>\n      <td>tvN</td>\n      <td>사장이더많이먹는강식당</td>\n      <td>2.296</td>\n      <td>월</td>\n    </tr>\n    <tr>\n      <th>4</th>\n      <td>2018.01.01</td>\n      <td>tvN</td>\n      <td>사장이더많이먹는강식당</td>\n      <td>2.215</td>\n      <td>월</td>\n    </tr>\n  </tbody>\n</table>\n</div>"
     },
     "metadata": {},
     "execution_count": 6
    }
   ],
   "source": [
    "day = ['월', '화', '수', '목', '금', '토', '일']\n",
    "dayList = []\n",
    "for index, date in enumerate(df.날짜):\n",
    "    splitDate = date.split('.')\n",
    "    dayIndex = datetime(int(splitDate[0]), int(splitDate[1]), int(splitDate[2])).weekday()\n",
    "    dayList.append(day[dayIndex])\n",
    "\n",
    "df['요일'] = dayList\n",
    "df.head()"
   ]
  },
  {
   "cell_type": "code",
   "execution_count": 8,
   "metadata": {},
   "outputs": [],
   "source": [
    "df.to_csv(\"20200623 닐슨코리아시청률(케이블).csv\", encoding='utf-8', index=False)\n",
    "df.to_excel(\"20200623 닐슨코리아시청률(케이블).xlsx\")"
   ]
  }
 ],
 "metadata": {
  "language_info": {
   "codemirror_mode": {
    "name": "ipython",
    "version": 3
   },
   "file_extension": ".py",
   "mimetype": "text/x-python",
   "name": "python",
   "nbconvert_exporter": "python",
   "pygments_lexer": "ipython3",
   "version": "3.8.3-final"
  },
  "orig_nbformat": 2,
  "kernelspec": {
   "name": "python38332bit87cfeb9266ad4c04b9ba497fdb87fc5f",
   "display_name": "Python 3.8.3 32-bit"
  }
 },
 "nbformat": 4,
 "nbformat_minor": 2
}