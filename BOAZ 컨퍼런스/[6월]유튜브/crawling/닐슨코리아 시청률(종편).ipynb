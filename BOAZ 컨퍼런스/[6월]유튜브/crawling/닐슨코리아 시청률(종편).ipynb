{
 "cells": [
  {
   "cell_type": "code",
   "execution_count": 1,
   "metadata": {},
   "outputs": [],
   "source": [
    "import requests\n",
    "import time\n",
    "import calendar\n",
    "import re\n",
    "import pandas as pd\n",
    "from selenium import webdriver\n",
    "from bs4 import BeautifulSoup\n",
    "from datetime import datetime, timedelta"
   ]
  },
  {
   "cell_type": "code",
   "execution_count": 33,
   "metadata": {},
   "outputs": [],
   "source": [
    "def nielsenKoreaCrawlling(startYear, startMonth, startDay, url, topN, dates, channels, programs, ratings):\n",
    "    # 넬슨코리아 시청률 페이지 접속\n",
    "    driver = webdriver.Chrome('./drivers/chromedriver.exe')\n",
    "    driver.implicitly_wait(3)\n",
    "    driver.get(url)\n",
    "    driver.maximize_window()\n",
    "\n",
    "    # 검색 가능한 년도, 월, 일 알아내기\n",
    "    html = driver.page_source\n",
    "    soup = BeautifulSoup(html, 'html.parser')\n",
    "    # 년도\n",
    "    sYear = soup.find('select', {'name' : 'sYear'})\n",
    "    sYearTotal = [int(re.sub('[^0-9]', '', i.get_text())) for i in sYear.find_all('option')]\n",
    "    # startYear 선택\n",
    "    if startYear in sYearTotal:\n",
    "        sYearIndex = sYearTotal.index(startYear) + 1\n",
    "        driver.find_element_by_xpath('//*[@id=\"select\"]/option[' + str(sYearIndex) + ']').click()\n",
    "    else:\n",
    "        return \"No startYear!\"\n",
    "    # startMonth 선택\n",
    "    if (startMonth>0)&(startMonth<=12):\n",
    "        driver.find_element_by_xpath('//*[@id=\"select2\"]/option[' + str(startMonth) + ']').click()\n",
    "    else:\n",
    "        return \"No startMonth!\"\n",
    "    \n",
    "    # 검색버튼 클릭\n",
    "    driver.find_element_by_xpath('//*[@id=\"sub_body\"]/table[1]/tbody/tr/td/form/table/tbody/tr/td[2]/img').click()\n",
    "    # 전국버튼 클릭\n",
    "    driver.find_element_by_xpath('//*[@id=\"sub_body\"]/table[2]/tbody/tr/td/table/tbody/tr/td[1]').click()\n",
    "\n",
    "    # dayCalc 구하기\n",
    "    dayCalc = (datetime.now() - datetime(startYear, startMonth, startDay)).days\n",
    "    print(str(startYear) + '-' + str(startMonth) + '-' + str(startDay) + ' ~ ' + datetime.now().strftime('%Y-%m-%d') + ':' +  str(dayCalc))\n",
    "    cnt = 0\n",
    "    isbreak = True\n",
    "    \n",
    "    # crawlling\n",
    "    while(1):\n",
    "        try:\n",
    "            driver.find_element_by_xpath('//*[@id=\"select\"]').click()\n",
    "            driver.find_element_by_xpath('//*[@id=\"select\"]/option[' + str(sYearIndex) + ']').click()\n",
    "            while(1):\n",
    "                driver.find_element_by_xpath('//*[@id=\"select2\"]').click()\n",
    "                driver.find_element_by_xpath('//*[@id=\"select2\"]/option[' + str(startMonth) + ']').click()\n",
    "                while (1):\n",
    "                    driver.find_element_by_xpath('//*[@id=\"select1\"]').click()\n",
    "                    driver.find_element_by_xpath('//*[@id=\"select1\"]/option[' + str(startDay) + ']').click()\n",
    "                    driver.find_element_by_xpath('//*[@id=\"sub_body\"]/table[1]/tbody/tr/td/form/table/tbody/tr/td[2]/img').click()  # 검색 버튼\n",
    "                    driver.find_element_by_xpath('//*[@id=\"sub_body\"]/table[2]/tbody/tr/td/table/tbody/tr/td[1]').click()   # 전국 버튼\n",
    "\n",
    "                    # 현재 날짜 페이지 html parsing\n",
    "                    html2 = driver.page_source\n",
    "                    soup2 = BeautifulSoup(html2, 'html.parser')\n",
    "\n",
    "                    # dates append\n",
    "                    date = soup2.find('td', {'class' : 'ranking_date'})\n",
    "                    dateText = [re.sub(\"[^0-9.]\", '', date.get_text()) for i in range(topN)]\n",
    "                    dates.append(dateText)\n",
    "\n",
    "                    # channels append\n",
    "                    channel = soup2.find_all('td', {'class' : 'tb_txt_center'})\n",
    "                    channelText = [channel[2*i+1].get_text().replace('\\t', '') for i in range(topN)]\n",
    "                    channels.append(channelText)\n",
    "                        \n",
    "                    # programs append\n",
    "                    program = soup2.find_all('td', {'class' : 'tb_txt'})\n",
    "                    programText = [program[i].get_text().replace('\\t', '') for i in range(topN)]\n",
    "                    programs.append(programText)\n",
    "\n",
    "                    # ratings append\n",
    "                    rating = soup2.find_all('td', {'align' : 'center'})\n",
    "                    ratingText = [re.sub('[^0-9.]', '', rating[i].get_text()) for i in range(1, topN+1)]\n",
    "                    ratings.append(ratingText)\n",
    "\n",
    "                    print(cnt)\n",
    "                    cnt += 1\n",
    "                    if (cnt >= dayCalc):\n",
    "                        isbreak = False\n",
    "                        break\n",
    "\n",
    "                    startDay += 1\n",
    "                    if startDay > calendar.monthrange(sYearTotal[sYearIndex-1], startMonth)[1]:\n",
    "                        startDay = 1\n",
    "                        break\n",
    "                    \n",
    "                if (isbreak == False):\n",
    "                    break\n",
    "                startMonth += 1\n",
    "                if (startMonth > 12):\n",
    "                    startMonth = 1\n",
    "                    break\n",
    "                \n",
    "            if (isbreak == False):\n",
    "                break     \n",
    "            sYearIndex += 1        \n",
    "            \n",
    "        except Exception as e:\n",
    "            errorDate = datetime(sYearTotal[sYearIndex-1], startMonth, startDay)\n",
    "            nextDate = errorDate + timedelta(days=1)\n",
    "            print(\"=================================Error!================================\")\n",
    "            print(e)\n",
    "            print(\"Error cnt : \", cnt)\n",
    "            print(\"Error date : \", errorDate)\n",
    "            print(\"Next date : \", nextDate)\n",
    "            print(\"=======================================================================\")\n",
    "            nielsenKoreaCrawlling(nextDate.year, nextDate.month, nextDate.day, driver.current_url, len(dateText), dates, channels, programs, ratings)\n",
    "            break\n",
    "        \n",
    "    return dates, channels, programs, ratings"
   ]
  },
  {
   "cell_type": "code",
   "execution_count": 34,
   "metadata": {
    "tags": []
   },
   "outputs": [
    {
     "output_type": "stream",
     "name": "stdout",
     "text": "2017-1-1 ~ 2020-06-24:1270\n0\n1\n2\n3\n4\n5\n6\n7\n8\n9\n10\n11\n12\n13\n14\n15\n16\n17\n18\n19\n20\n21\n22\n23\n24\n25\n26\n27\n28\n29\n30\n31\n32\n33\n34\n35\n36\n37\n38\n39\n40\n41\n42\n43\n44\n45\n46\n47\n48\n49\n50\n51\n52\n53\n54\n55\n56\n57\n58\n59\n60\n61\n62\n63\n64\n65\n66\n67\n68\n69\n70\n71\n72\n73\n74\n75\n76\n77\n78\n79\n80\n81\n82\n83\n84\n85\n86\n87\n88\n89\n90\n91\n92\n93\n94\n95\n96\n97\n98\n99\n100\n101\n102\n103\n104\n105\n106\n107\n108\n109\n110\n111\n112\n113\n114\n115\n116\n117\n118\n119\n120\n121\n122\n123\n124\n125\n126\n127\n128\n129\n130\n131\n132\n133\n134\n135\n136\n137\n138\n139\n140\n141\n142\n143\n144\n145\n146\n147\n148\n149\n150\n151\n152\n153\n154\n155\n156\n157\n158\n159\n160\n161\n162\n163\n164\n165\n166\n167\n168\n169\n170\n171\n172\n173\n174\n175\n176\n177\n178\n179\n180\n181\n182\n183\n184\n185\n186\n187\n188\n189\n190\n191\n192\n193\n194\n195\n196\n197\n198\n199\n200\n201\n202\n203\n204\n205\n206\n207\n208\n209\n210\n211\n212\n213\n214\n215\n216\n217\n218\n219\n220\n221\n222\n223\n224\n225\n226\n227\n228\n229\n230\n231\n232\n233\n234\n235\n236\n237\n238\n239\n240\n241\n242\n243\n244\n245\n246\n247\n248\n249\n250\n251\n252\n253\n254\n255\n256\n257\n258\n259\n260\n261\n262\n263\n264\n265\n266\n267\n268\n269\n270\n271\n272\n273\n274\n275\n276\n277\n278\n279\n280\n281\n282\n283\n284\n285\n286\n287\n288\n289\n290\n291\n292\n293\n294\n295\n296\n297\n298\n299\n300\n301\n302\n303\n304\n305\n306\n307\n308\n309\n310\n311\n312\n313\n314\n315\n316\n317\n318\n319\n320\n321\n322\n323\n324\n325\n326\n327\n328\n329\n330\n331\n332\n333\n334\n335\n336\n337\n338\n339\n340\n341\n342\n343\n344\n345\n346\n347\n348\n349\n350\n351\n352\n353\n354\n355\n356\n357\n358\n359\n360\n361\n362\n363\n364\n365\n366\n367\n368\n369\n370\n371\n372\n373\n374\n375\n376\n377\n378\n379\n380\n381\n382\n383\n384\n385\n386\n387\n388\n389\n390\n391\n392\n393\n394\n395\n396\n397\n398\n399\n400\n401\n402\n403\n404\n405\n406\n407\n408\n409\n410\n411\n412\n413\n414\n415\n416\n417\n418\n419\n420\n421\n422\n423\n424\n425\n426\n427\n428\n429\n430\n431\n432\n433\n434\n435\n436\n437\n438\n439\n440\n441\n442\n443\n444\n445\n446\n447\n448\n449\n450\n451\n452\n453\n454\n455\n456\n457\n458\n459\n460\n461\n462\n463\n464\n465\n466\n467\n468\n469\n470\n471\n472\n473\n474\n475\n476\n477\n478\n479\n480\n481\n482\n483\n484\n485\n486\n487\n488\n489\n490\n491\n492\n493\n494\n495\n496\n497\n498\n499\n500\n501\n502\n503\n504\n505\n506\n507\n508\n509\n510\n511\n512\n513\n514\n515\n516\n517\n518\n519\n520\n521\n522\n523\n524\n525\n526\n527\n528\n529\n530\n531\n532\n533\n534\n535\n536\n537\n538\n539\n540\n541\n542\n543\n544\n545\n546\n547\n548\n549\n550\n551\n552\n553\n554\n555\n556\n557\n558\n559\n560\n561\n562\n563\n564\n565\n566\n567\n568\n569\n570\n571\n572\n573\n574\n575\n576\n577\n578\n579\n580\n581\n582\n583\n584\n585\n586\n587\n588\n589\n590\n591\n592\n593\n594\n595\n596\n597\n598\n599\n600\n601\n602\n603\n604\n605\n606\n607\n608\n609\n610\n611\n612\n613\n614\n615\n616\n617\n618\n619\n620\n621\n622\n623\n624\n625\n626\n627\n628\n629\n630\n631\n632\n633\n634\n635\n636\n637\n638\n639\n640\n641\n642\n643\n644\n645\n646\n647\n648\n649\n650\n651\n652\n653\n654\n655\n656\n657\n658\n659\n660\n661\n662\n663\n664\n665\n666\n667\n668\n669\n670\n671\n672\n673\n674\n675\n676\n677\n678\n679\n680\n681\n682\n683\n684\n685\n686\n687\n688\n689\n690\n691\n692\n693\n694\n695\n696\n697\n698\n699\n700\n701\n702\n703\n704\n705\n706\n707\n708\n709\n710\n711\n712\n713\n714\n715\n716\n717\n718\n719\n720\n721\n722\n723\n724\n725\n726\n727\n728\n729\n730\n731\n732\n733\n734\n735\n736\n737\n738\n739\n740\n741\n742\n743\n744\n745\n746\n747\n748\n749\n750\n751\n752\n753\n754\n755\n756\n757\n758\n759\n760\n761\n762\n763\n764\n765\n766\n767\n768\n769\n770\n771\n772\n773\n774\n775\n776\n777\n778\n779\n780\n781\n782\n783\n784\n785\n786\n787\n788\n789\n790\n791\n792\n793\n794\n795\n796\n797\n798\n799\n800\n801\n802\n803\n804\n805\n806\n807\n808\n809\n810\n811\n812\n813\n814\n815\n816\n817\n818\n819\n820\n821\n822\n823\n824\n825\n826\n827\n828\n829\n830\n831\n832\n833\n834\n835\n836\n837\n838\n839\n840\n841\n842\n843\n844\n845\n846\n847\n848\n849\n850\n851\n852\n853\n854\n855\n856\n857\n858\n859\n860\n861\n862\n863\n864\n865\n866\n867\n868\n869\n870\n871\n872\n873\n874\n875\n876\n877\n878\n879\n880\n881\n882\n883\n884\n885\n886\n887\n888\n889\n890\n891\n892\n893\n894\n895\n896\n897\n898\n899\n900\n901\n902\n903\n904\n905\n906\n907\n908\n909\n910\n911\n912\n913\n914\n915\n916\n917\n918\n919\n920\n921\n922\n923\n924\n925\n926\n927\n928\n929\n930\n931\n932\n933\n934\n935\n936\n937\n938\n939\n940\n941\n942\n943\n944\n945\n946\n947\n948\n949\n950\n951\n952\n953\n954\n955\n956\n957\n958\n959\n960\n961\n962\n963\n964\n965\n966\n967\n968\n969\n970\n971\n972\n973\n974\n975\n976\n977\n978\n979\n980\n981\n982\n983\n984\n985\n986\n987\n988\n989\n990\n991\n992\n993\n994\n995\n996\n997\n998\n999\n1000\n1001\n1002\n1003\n1004\n1005\n=================================Error!================================\nMessage: disconnected: Unable to receive message from renderer\n  (Session info: chrome=83.0.4103.106)\n\nError cnt :  1006\nError date :  2019-10-04 00:00:00\nNext date :  2019-10-05 00:00:00\n=======================================================================\n2019-10-5 ~ 2020-06-24:263\n0\n1\n2\n3\n4\n5\n6\n7\n8\n9\n10\n11\n12\n13\n14\n15\n16\n17\n18\n19\n20\n21\n22\n23\n24\n25\n26\n27\n28\n29\n30\n31\n32\n33\n34\n35\n36\n37\n38\n39\n40\n41\n42\n43\n44\n45\n46\n47\n48\n49\n50\n51\n52\n53\n54\n55\n56\n57\n58\n59\n60\n61\n62\n63\n64\n65\n66\n67\n68\n69\n70\n71\n72\n73\n74\n75\n76\n77\n78\n79\n80\n81\n82\n83\n84\n85\n86\n87\n88\n89\n90\n91\n92\n93\n94\n95\n96\n97\n98\n99\n100\n101\n102\n103\n104\n105\n106\n107\n108\n109\n110\n111\n112\n113\n114\n115\n116\n117\n118\n119\n120\n121\n122\n123\n124\n125\n126\n127\n128\n129\n130\n131\n132\n133\n134\n135\n136\n137\n138\n139\n140\n141\n142\n143\n144\n145\n146\n=================================Error!================================\nMessage: no such element: Unable to locate element: {\"method\":\"xpath\",\"selector\":\"//*[@id=\"select1\"]/option[29]\"}\n  (Session info: chrome=83.0.4103.106)\n\nError cnt :  147\nError date :  2020-02-29 00:00:00\nNext date :  2020-03-01 00:00:00\n=======================================================================\n2020-3-1 ~ 2020-06-24:115\n0\n1\n2\n3\n4\n5\n6\n7\n8\n9\n10\n11\n12\n13\n14\n15\n16\n17\n18\n19\n20\n21\n22\n23\n24\n25\n26\n27\n28\n29\n30\n31\n32\n33\n34\n35\n36\n37\n38\n39\n40\n41\n42\n43\n44\n45\n46\n47\n48\n49\n50\n51\n52\n53\n54\n55\n56\n57\n58\n59\n60\n61\n62\n63\n64\n65\n66\n67\n68\n69\n70\n71\n72\n73\n74\n75\n76\n77\n78\n79\n80\n81\n82\n83\n84\n85\n86\n87\n88\n89\n90\n91\n92\n93\n94\n95\n96\n97\n98\n99\n100\n101\n102\n103\n104\n105\n106\n107\n108\n109\n110\n111\n112\n113\n114\n"
    }
   ],
   "source": [
    "url = 'https://www.nielsenkorea.co.kr/tv_terrestrial_day.asp?menu=Tit_1&sub_menu=2_1&area=01&begin_date=202006'\n",
    "dates = []\n",
    "channels = []\n",
    "programs = []\n",
    "ratings = []\n",
    "\n",
    "dates, channels, programs, ratings = nielsenKoreaCrawlling(2017, 1, 1, url, 10, dates, channels, programs, ratings)"
   ]
  },
  {
   "cell_type": "code",
   "execution_count": 42,
   "metadata": {
    "tags": []
   },
   "outputs": [
    {
     "output_type": "stream",
     "name": "stdout",
     "text": "1268\n1268\n1268\n1268\n"
    }
   ],
   "source": [
    "print(len(dates))\n",
    "print(len(channels))\n",
    "print(len(programs))\n",
    "print(len(ratings))"
   ]
  },
  {
   "cell_type": "code",
   "execution_count": 43,
   "metadata": {
    "tags": []
   },
   "outputs": [
    {
     "output_type": "stream",
     "name": "stdout",
     "text": "12680\n12680\n12680\n12680\n"
    }
   ],
   "source": [
    "datesFinal = sum(dates, [])\n",
    "channelsFinal = sum(channels, [])\n",
    "programsFinal = sum(programs, [])\n",
    "ratingsFinal = sum(ratings, [])\n",
    "\n",
    "print(len(datesFinal))\n",
    "print(len(channelsFinal))\n",
    "print(len(programsFinal))\n",
    "print(len(ratingsFinal))"
   ]
  },
  {
   "cell_type": "code",
   "execution_count": 44,
   "metadata": {},
   "outputs": [],
   "source": [
    "df = pd.DataFrame({\"날짜\" : datesFinal, \"채널\" : channelsFinal, \"프로그램\" : programsFinal, \"시청률\" : ratingsFinal})\n",
    "df.to_csv(\"20200623 닐슨코리아시청률(종편).csv\", encoding='utf-8', index=False)\n",
    "df.to_excel(\"20200623 닐슨코리아시청률(종편).xlsx\")"
   ]
  },
  {
   "cell_type": "code",
   "execution_count": 45,
   "metadata": {},
   "outputs": [
    {
     "output_type": "execute_result",
     "data": {
      "text/plain": "           날짜    채널      프로그램    시청률\n0  2017.01.01  JTBC   JTBC뉴스룸  6.310\n1  2017.01.01   채널A  이제만나러갑니다  4.390\n2  2017.01.01   MBN  MBN뉴스와이드  3.891\n3  2017.01.01   MBN       알토란  3.581\n4  2017.01.01   MBN   MBN뉴스특보  3.528",
      "text/html": "<div>\n<style scoped>\n    .dataframe tbody tr th:only-of-type {\n        vertical-align: middle;\n    }\n\n    .dataframe tbody tr th {\n        vertical-align: top;\n    }\n\n    .dataframe thead th {\n        text-align: right;\n    }\n</style>\n<table border=\"1\" class=\"dataframe\">\n  <thead>\n    <tr style=\"text-align: right;\">\n      <th></th>\n      <th>날짜</th>\n      <th>채널</th>\n      <th>프로그램</th>\n      <th>시청률</th>\n    </tr>\n  </thead>\n  <tbody>\n    <tr>\n      <th>0</th>\n      <td>2017.01.01</td>\n      <td>JTBC</td>\n      <td>JTBC뉴스룸</td>\n      <td>6.310</td>\n    </tr>\n    <tr>\n      <th>1</th>\n      <td>2017.01.01</td>\n      <td>채널A</td>\n      <td>이제만나러갑니다</td>\n      <td>4.390</td>\n    </tr>\n    <tr>\n      <th>2</th>\n      <td>2017.01.01</td>\n      <td>MBN</td>\n      <td>MBN뉴스와이드</td>\n      <td>3.891</td>\n    </tr>\n    <tr>\n      <th>3</th>\n      <td>2017.01.01</td>\n      <td>MBN</td>\n      <td>알토란</td>\n      <td>3.581</td>\n    </tr>\n    <tr>\n      <th>4</th>\n      <td>2017.01.01</td>\n      <td>MBN</td>\n      <td>MBN뉴스특보</td>\n      <td>3.528</td>\n    </tr>\n  </tbody>\n</table>\n</div>"
     },
     "metadata": {},
     "execution_count": 45
    }
   ],
   "source": [
    "df = pd.read_csv('20200623 닐슨코리아시청률(종편).csv')\n",
    "df.head()"
   ]
  },
  {
   "cell_type": "code",
   "execution_count": 46,
   "metadata": {},
   "outputs": [
    {
     "output_type": "execute_result",
     "data": {
      "text/plain": "           날짜    채널      프로그램    시청률 요일\n0  2017.01.01  JTBC   JTBC뉴스룸  6.310  일\n1  2017.01.01   채널A  이제만나러갑니다  4.390  일\n2  2017.01.01   MBN  MBN뉴스와이드  3.891  일\n3  2017.01.01   MBN       알토란  3.581  일\n4  2017.01.01   MBN   MBN뉴스특보  3.528  일",
      "text/html": "<div>\n<style scoped>\n    .dataframe tbody tr th:only-of-type {\n        vertical-align: middle;\n    }\n\n    .dataframe tbody tr th {\n        vertical-align: top;\n    }\n\n    .dataframe thead th {\n        text-align: right;\n    }\n</style>\n<table border=\"1\" class=\"dataframe\">\n  <thead>\n    <tr style=\"text-align: right;\">\n      <th></th>\n      <th>날짜</th>\n      <th>채널</th>\n      <th>프로그램</th>\n      <th>시청률</th>\n      <th>요일</th>\n    </tr>\n  </thead>\n  <tbody>\n    <tr>\n      <th>0</th>\n      <td>2017.01.01</td>\n      <td>JTBC</td>\n      <td>JTBC뉴스룸</td>\n      <td>6.310</td>\n      <td>일</td>\n    </tr>\n    <tr>\n      <th>1</th>\n      <td>2017.01.01</td>\n      <td>채널A</td>\n      <td>이제만나러갑니다</td>\n      <td>4.390</td>\n      <td>일</td>\n    </tr>\n    <tr>\n      <th>2</th>\n      <td>2017.01.01</td>\n      <td>MBN</td>\n      <td>MBN뉴스와이드</td>\n      <td>3.891</td>\n      <td>일</td>\n    </tr>\n    <tr>\n      <th>3</th>\n      <td>2017.01.01</td>\n      <td>MBN</td>\n      <td>알토란</td>\n      <td>3.581</td>\n      <td>일</td>\n    </tr>\n    <tr>\n      <th>4</th>\n      <td>2017.01.01</td>\n      <td>MBN</td>\n      <td>MBN뉴스특보</td>\n      <td>3.528</td>\n      <td>일</td>\n    </tr>\n  </tbody>\n</table>\n</div>"
     },
     "metadata": {},
     "execution_count": 46
    }
   ],
   "source": [
    "day = ['월', '화', '수', '목', '금', '토', '일']\n",
    "dayList = []\n",
    "for index, date in enumerate(df.날짜):\n",
    "    splitDate = date.split('.')\n",
    "    dayIndex = datetime(int(splitDate[0]), int(splitDate[1]), int(splitDate[2])).weekday()\n",
    "    dayList.append(day[dayIndex])\n",
    "\n",
    "df['요일'] = dayList\n",
    "df.head()"
   ]
  },
  {
   "cell_type": "code",
   "execution_count": 67,
   "metadata": {},
   "outputs": [],
   "source": [
    "nonePrograms = []\n",
    "\n",
    "for index, program in enumerate(df.프로그램):\n",
    "    if '드라마' in program:\n",
    "        df['구분'].iloc[index] = '드라마'\n",
    "    elif '뉴스' in program:\n",
    "        df['구분'].iloc[index] = '뉴스'\n",
    "    elif '<재>' in program:\n",
    "        df['구분'].iloc[index] = '기타'\n",
    "    else:\n",
    "        nonePrograms.append(program)"
   ]
  },
  {
   "cell_type": "code",
   "execution_count": 68,
   "metadata": {},
   "outputs": [],
   "source": [
    "df.to_csv(\"20200623 닐슨코리아시청률(종편).csv\", encoding='utf-8', index=False)\n",
    "df.to_excel(\"20200623 닐슨코리아시청률(종편).xlsx\", index=False)"
   ]
  },
  {
   "cell_type": "code",
   "execution_count": 2,
   "metadata": {},
   "outputs": [],
   "source": [
    "df = pd.read_excel('20200623 닐슨코리아시청률(종편).xlsx')"
   ]
  },
  {
   "cell_type": "code",
   "execution_count": 3,
   "metadata": {},
   "outputs": [
    {
     "output_type": "execute_result",
     "data": {
      "text/plain": "           날짜    채널      프로그램    시청률 요일  구분\n0  2017.01.01  JTBC   JTBC뉴스룸  6.310  일  뉴스\n1  2017.01.01   채널A  이제만나러갑니다  4.390  일  예능\n2  2017.01.01   MBN  MBN뉴스와이드  3.891  일  뉴스\n3  2017.01.01   MBN       알토란  3.581  일  예능\n4  2017.01.01   MBN   MBN뉴스특보  3.528  일  뉴스",
      "text/html": "<div>\n<style scoped>\n    .dataframe tbody tr th:only-of-type {\n        vertical-align: middle;\n    }\n\n    .dataframe tbody tr th {\n        vertical-align: top;\n    }\n\n    .dataframe thead th {\n        text-align: right;\n    }\n</style>\n<table border=\"1\" class=\"dataframe\">\n  <thead>\n    <tr style=\"text-align: right;\">\n      <th></th>\n      <th>날짜</th>\n      <th>채널</th>\n      <th>프로그램</th>\n      <th>시청률</th>\n      <th>요일</th>\n      <th>구분</th>\n    </tr>\n  </thead>\n  <tbody>\n    <tr>\n      <th>0</th>\n      <td>2017.01.01</td>\n      <td>JTBC</td>\n      <td>JTBC뉴스룸</td>\n      <td>6.310</td>\n      <td>일</td>\n      <td>뉴스</td>\n    </tr>\n    <tr>\n      <th>1</th>\n      <td>2017.01.01</td>\n      <td>채널A</td>\n      <td>이제만나러갑니다</td>\n      <td>4.390</td>\n      <td>일</td>\n      <td>예능</td>\n    </tr>\n    <tr>\n      <th>2</th>\n      <td>2017.01.01</td>\n      <td>MBN</td>\n      <td>MBN뉴스와이드</td>\n      <td>3.891</td>\n      <td>일</td>\n      <td>뉴스</td>\n    </tr>\n    <tr>\n      <th>3</th>\n      <td>2017.01.01</td>\n      <td>MBN</td>\n      <td>알토란</td>\n      <td>3.581</td>\n      <td>일</td>\n      <td>예능</td>\n    </tr>\n    <tr>\n      <th>4</th>\n      <td>2017.01.01</td>\n      <td>MBN</td>\n      <td>MBN뉴스특보</td>\n      <td>3.528</td>\n      <td>일</td>\n      <td>뉴스</td>\n    </tr>\n  </tbody>\n</table>\n</div>"
     },
     "metadata": {},
     "execution_count": 3
    }
   ],
   "source": [
    "df.head()"
   ]
  },
  {
   "cell_type": "code",
   "execution_count": null,
   "metadata": {},
   "outputs": [],
   "source": []
  }
 ],
 "metadata": {
  "language_info": {
   "codemirror_mode": {
    "name": "ipython",
    "version": 3
   },
   "file_extension": ".py",
   "mimetype": "text/x-python",
   "name": "python",
   "nbconvert_exporter": "python",
   "pygments_lexer": "ipython3",
   "version": "3.8.3-final"
  },
  "orig_nbformat": 2,
  "kernelspec": {
   "name": "python38332bit87cfeb9266ad4c04b9ba497fdb87fc5f",
   "display_name": "Python 3.8.3 32-bit"
  }
 },
 "nbformat": 4,
 "nbformat_minor": 2
}